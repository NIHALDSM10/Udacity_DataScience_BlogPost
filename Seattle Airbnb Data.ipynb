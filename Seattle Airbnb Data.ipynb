{
 "cells": [
  {
   "cell_type": "code",
   "execution_count": 1,
   "metadata": {},
   "outputs": [],
   "source": [
    "import pandas as pd\n",
    "import numpy as np\n",
    "import matplotlib.pyplot as plt\n",
    "import datetime as dt\n",
    "import seaborn as sns"
   ]
  },
  {
   "cell_type": "markdown",
   "metadata": {},
   "source": [
    "## Step 1: Business Understanding"
   ]
  },
  {
   "cell_type": "markdown",
   "metadata": {},
   "source": [
    "Questions to Answer\n",
    "1. What is the distribution of rental type in Seattle?\n",
    "2. Which are the most expensive and cheapest neighbourhoods in Seattle?\n",
    "3. What time of the year is the busiest and most expensive in Seattle?\n",
    "4. Is there any correlation between the number of listings and the average price of the listings in a particular area?\n",
    "5. Is there any relation between the number of reviews and the availability of the listings?"
   ]
  },
  {
   "cell_type": "markdown",
   "metadata": {},
   "source": [
    "## Step 2: Data Understanding"
   ]
  },
  {
   "cell_type": "code",
   "execution_count": 6,
   "metadata": {},
   "outputs": [],
   "source": [
    "#Initalizaing dfs\n",
    "calendar_df = pd.read_csv(\"data/calendar.csv\")\n",
    "reviews_df = pd.read_csv(\"data/reviews.csv\")\n",
    "listings_df = pd.read_csv(\"data/listings.csv\")"
   ]
  },
  {
   "cell_type": "markdown",
   "metadata": {},
   "source": [
    "### Exploring calendar_df"
   ]
  },
  {
   "cell_type": "code",
   "execution_count": 7,
   "metadata": {},
   "outputs": [
    {
     "data": {
      "text/html": [
       "<div>\n",
       "<style scoped>\n",
       "    .dataframe tbody tr th:only-of-type {\n",
       "        vertical-align: middle;\n",
       "    }\n",
       "\n",
       "    .dataframe tbody tr th {\n",
       "        vertical-align: top;\n",
       "    }\n",
       "\n",
       "    .dataframe thead th {\n",
       "        text-align: right;\n",
       "    }\n",
       "</style>\n",
       "<table border=\"1\" class=\"dataframe\">\n",
       "  <thead>\n",
       "    <tr style=\"text-align: right;\">\n",
       "      <th></th>\n",
       "      <th>listing_id</th>\n",
       "      <th>date</th>\n",
       "      <th>available</th>\n",
       "      <th>price</th>\n",
       "      <th>adjusted_price</th>\n",
       "      <th>minimum_nights</th>\n",
       "      <th>maximum_nights</th>\n",
       "    </tr>\n",
       "  </thead>\n",
       "  <tbody>\n",
       "    <tr>\n",
       "      <th>0</th>\n",
       "      <td>356608</td>\n",
       "      <td>2020-12-23</td>\n",
       "      <td>f</td>\n",
       "      <td>$196.00</td>\n",
       "      <td>$196.00</td>\n",
       "      <td>3</td>\n",
       "      <td>1125</td>\n",
       "    </tr>\n",
       "    <tr>\n",
       "      <th>1</th>\n",
       "      <td>356608</td>\n",
       "      <td>2020-12-24</td>\n",
       "      <td>f</td>\n",
       "      <td>$196.00</td>\n",
       "      <td>$196.00</td>\n",
       "      <td>3</td>\n",
       "      <td>1125</td>\n",
       "    </tr>\n",
       "    <tr>\n",
       "      <th>2</th>\n",
       "      <td>356608</td>\n",
       "      <td>2020-12-25</td>\n",
       "      <td>f</td>\n",
       "      <td>$196.00</td>\n",
       "      <td>$196.00</td>\n",
       "      <td>3</td>\n",
       "      <td>1125</td>\n",
       "    </tr>\n",
       "    <tr>\n",
       "      <th>3</th>\n",
       "      <td>356608</td>\n",
       "      <td>2020-12-26</td>\n",
       "      <td>f</td>\n",
       "      <td>$196.00</td>\n",
       "      <td>$196.00</td>\n",
       "      <td>3</td>\n",
       "      <td>1125</td>\n",
       "    </tr>\n",
       "    <tr>\n",
       "      <th>4</th>\n",
       "      <td>356608</td>\n",
       "      <td>2020-12-27</td>\n",
       "      <td>f</td>\n",
       "      <td>$196.00</td>\n",
       "      <td>$196.00</td>\n",
       "      <td>3</td>\n",
       "      <td>1125</td>\n",
       "    </tr>\n",
       "  </tbody>\n",
       "</table>\n",
       "</div>"
      ],
      "text/plain": [
       "   listing_id        date available    price adjusted_price  minimum_nights  \\\n",
       "0      356608  2020-12-23         f  $196.00        $196.00               3   \n",
       "1      356608  2020-12-24         f  $196.00        $196.00               3   \n",
       "2      356608  2020-12-25         f  $196.00        $196.00               3   \n",
       "3      356608  2020-12-26         f  $196.00        $196.00               3   \n",
       "4      356608  2020-12-27         f  $196.00        $196.00               3   \n",
       "\n",
       "   maximum_nights  \n",
       "0            1125  \n",
       "1            1125  \n",
       "2            1125  \n",
       "3            1125  \n",
       "4            1125  "
      ]
     },
     "execution_count": 7,
     "metadata": {},
     "output_type": "execute_result"
    }
   ],
   "source": [
    "calendar_df.head()"
   ]
  },
  {
   "cell_type": "code",
   "execution_count": 8,
   "metadata": {},
   "outputs": [
    {
     "data": {
      "text/plain": [
       "listing_id         int64\n",
       "date              object\n",
       "available         object\n",
       "price             object\n",
       "adjusted_price    object\n",
       "minimum_nights     int64\n",
       "maximum_nights     int64\n",
       "dtype: object"
      ]
     },
     "execution_count": 8,
     "metadata": {},
     "output_type": "execute_result"
    }
   ],
   "source": [
    "calendar_df.dtypes"
   ]
  },
  {
   "cell_type": "code",
   "execution_count": 9,
   "metadata": {},
   "outputs": [
    {
     "data": {
      "text/plain": [
       "(1499055, 7)"
      ]
     },
     "execution_count": 9,
     "metadata": {},
     "output_type": "execute_result"
    }
   ],
   "source": [
    "calendar_df.shape"
   ]
  },
  {
   "cell_type": "code",
   "execution_count": 10,
   "metadata": {},
   "outputs": [
    {
     "data": {
      "text/plain": [
       "4107"
      ]
     },
     "execution_count": 10,
     "metadata": {},
     "output_type": "execute_result"
    }
   ],
   "source": [
    "calendar_df.listing_id.nunique()"
   ]
  },
  {
   "cell_type": "code",
   "execution_count": 11,
   "metadata": {},
   "outputs": [
    {
     "data": {
      "text/plain": [
       "2.127673767807052"
      ]
     },
     "execution_count": 11,
     "metadata": {},
     "output_type": "execute_result"
    }
   ],
   "source": [
    "(calendar_df.price != calendar_df.adjusted_price).sum()/calendar_df.shape[0]*100"
   ]
  },
  {
   "cell_type": "code",
   "execution_count": 12,
   "metadata": {},
   "outputs": [
    {
     "data": {
      "text/plain": [
       "30    479875\n",
       "2     355018\n",
       "1     274436\n",
       "3     194099\n",
       "5      30921\n",
       "Name: minimum_nights, dtype: int64"
      ]
     },
     "execution_count": 12,
     "metadata": {},
     "output_type": "execute_result"
    }
   ],
   "source": [
    "calendar_df.minimum_nights.value_counts().head()"
   ]
  },
  {
   "cell_type": "code",
   "execution_count": 13,
   "metadata": {},
   "outputs": [
    {
     "data": {
      "text/plain": [
       "1125    1005131\n",
       "365      164364\n",
       "30        43362\n",
       "90        31918\n",
       "28        26550\n",
       "Name: maximum_nights, dtype: int64"
      ]
     },
     "execution_count": 13,
     "metadata": {},
     "output_type": "execute_result"
    }
   ],
   "source": [
    "calendar_df.maximum_nights.value_counts().head()"
   ]
  },
  {
   "cell_type": "markdown",
   "metadata": {},
   "source": [
    "Changes needed to calendar_df:\n",
    "1. Change date column dtype to datetime\n",
    "2. Change available column dtype to boolean\n",
    "3. Remove price column\n",
    "4. For this analysis, removing minimum_nights and maximum_nights due to inconsistent data"
   ]
  },
  {
   "cell_type": "markdown",
   "metadata": {},
   "source": [
    "### Exploring listings_df"
   ]
  },
  {
   "cell_type": "code",
   "execution_count": 14,
   "metadata": {},
   "outputs": [
    {
     "data": {
      "text/html": [
       "<div>\n",
       "<style scoped>\n",
       "    .dataframe tbody tr th:only-of-type {\n",
       "        vertical-align: middle;\n",
       "    }\n",
       "\n",
       "    .dataframe tbody tr th {\n",
       "        vertical-align: top;\n",
       "    }\n",
       "\n",
       "    .dataframe thead th {\n",
       "        text-align: right;\n",
       "    }\n",
       "</style>\n",
       "<table border=\"1\" class=\"dataframe\">\n",
       "  <thead>\n",
       "    <tr style=\"text-align: right;\">\n",
       "      <th></th>\n",
       "      <th>id</th>\n",
       "      <th>name</th>\n",
       "      <th>host_id</th>\n",
       "      <th>host_name</th>\n",
       "      <th>neighbourhood_group</th>\n",
       "      <th>neighbourhood</th>\n",
       "      <th>latitude</th>\n",
       "      <th>longitude</th>\n",
       "      <th>room_type</th>\n",
       "      <th>price</th>\n",
       "      <th>minimum_nights</th>\n",
       "      <th>number_of_reviews</th>\n",
       "      <th>last_review</th>\n",
       "      <th>reviews_per_month</th>\n",
       "      <th>calculated_host_listings_count</th>\n",
       "      <th>availability_365</th>\n",
       "    </tr>\n",
       "  </thead>\n",
       "  <tbody>\n",
       "    <tr>\n",
       "      <th>0</th>\n",
       "      <td>9419</td>\n",
       "      <td>Glorious sun room w/ memory foambed</td>\n",
       "      <td>30559</td>\n",
       "      <td>Angielena</td>\n",
       "      <td>Other neighborhoods</td>\n",
       "      <td>Georgetown</td>\n",
       "      <td>47.55017</td>\n",
       "      <td>-122.31937</td>\n",
       "      <td>Private room</td>\n",
       "      <td>55</td>\n",
       "      <td>2</td>\n",
       "      <td>148</td>\n",
       "      <td>2019-12-27</td>\n",
       "      <td>1.17</td>\n",
       "      <td>7</td>\n",
       "      <td>268</td>\n",
       "    </tr>\n",
       "    <tr>\n",
       "      <th>1</th>\n",
       "      <td>9531</td>\n",
       "      <td>The Adorable Sweet Orange Craftsman</td>\n",
       "      <td>31481</td>\n",
       "      <td>Cassie</td>\n",
       "      <td>West Seattle</td>\n",
       "      <td>Fairmount Park</td>\n",
       "      <td>47.55539</td>\n",
       "      <td>-122.38474</td>\n",
       "      <td>Entire home/apt</td>\n",
       "      <td>165</td>\n",
       "      <td>28</td>\n",
       "      <td>41</td>\n",
       "      <td>2020-11-26</td>\n",
       "      <td>0.38</td>\n",
       "      <td>2</td>\n",
       "      <td>353</td>\n",
       "    </tr>\n",
       "    <tr>\n",
       "      <th>2</th>\n",
       "      <td>9534</td>\n",
       "      <td>The Coolest Tangerine Dream MIL!</td>\n",
       "      <td>31481</td>\n",
       "      <td>Cassie</td>\n",
       "      <td>West Seattle</td>\n",
       "      <td>Fairmount Park</td>\n",
       "      <td>47.55624</td>\n",
       "      <td>-122.38598</td>\n",
       "      <td>Entire home/apt</td>\n",
       "      <td>125</td>\n",
       "      <td>2</td>\n",
       "      <td>54</td>\n",
       "      <td>2020-11-14</td>\n",
       "      <td>0.50</td>\n",
       "      <td>2</td>\n",
       "      <td>232</td>\n",
       "    </tr>\n",
       "    <tr>\n",
       "      <th>3</th>\n",
       "      <td>9596</td>\n",
       "      <td>the down home , spacious, central and fab!</td>\n",
       "      <td>14942</td>\n",
       "      <td>Joyce</td>\n",
       "      <td>Other neighborhoods</td>\n",
       "      <td>Wallingford</td>\n",
       "      <td>47.65479</td>\n",
       "      <td>-122.33652</td>\n",
       "      <td>Entire home/apt</td>\n",
       "      <td>100</td>\n",
       "      <td>4</td>\n",
       "      <td>97</td>\n",
       "      <td>2020-09-28</td>\n",
       "      <td>0.84</td>\n",
       "      <td>2</td>\n",
       "      <td>65</td>\n",
       "    </tr>\n",
       "    <tr>\n",
       "      <th>4</th>\n",
       "      <td>9909</td>\n",
       "      <td>Luna Lower - West Seattle</td>\n",
       "      <td>33360</td>\n",
       "      <td>Laura</td>\n",
       "      <td>West Seattle</td>\n",
       "      <td>Fairmount Park</td>\n",
       "      <td>47.56612</td>\n",
       "      <td>-122.37273</td>\n",
       "      <td>Entire home/apt</td>\n",
       "      <td>66</td>\n",
       "      <td>30</td>\n",
       "      <td>75</td>\n",
       "      <td>2020-12-08</td>\n",
       "      <td>0.55</td>\n",
       "      <td>6</td>\n",
       "      <td>364</td>\n",
       "    </tr>\n",
       "  </tbody>\n",
       "</table>\n",
       "</div>"
      ],
      "text/plain": [
       "     id                                        name  host_id  host_name  \\\n",
       "0  9419         Glorious sun room w/ memory foambed    30559  Angielena   \n",
       "1  9531         The Adorable Sweet Orange Craftsman    31481     Cassie   \n",
       "2  9534            The Coolest Tangerine Dream MIL!    31481     Cassie   \n",
       "3  9596  the down home , spacious, central and fab!    14942      Joyce   \n",
       "4  9909                   Luna Lower - West Seattle    33360      Laura   \n",
       "\n",
       "   neighbourhood_group   neighbourhood  latitude  longitude        room_type  \\\n",
       "0  Other neighborhoods      Georgetown  47.55017 -122.31937     Private room   \n",
       "1         West Seattle  Fairmount Park  47.55539 -122.38474  Entire home/apt   \n",
       "2         West Seattle  Fairmount Park  47.55624 -122.38598  Entire home/apt   \n",
       "3  Other neighborhoods     Wallingford  47.65479 -122.33652  Entire home/apt   \n",
       "4         West Seattle  Fairmount Park  47.56612 -122.37273  Entire home/apt   \n",
       "\n",
       "   price  minimum_nights  number_of_reviews last_review  reviews_per_month  \\\n",
       "0     55               2                148  2019-12-27               1.17   \n",
       "1    165              28                 41  2020-11-26               0.38   \n",
       "2    125               2                 54  2020-11-14               0.50   \n",
       "3    100               4                 97  2020-09-28               0.84   \n",
       "4     66              30                 75  2020-12-08               0.55   \n",
       "\n",
       "   calculated_host_listings_count  availability_365  \n",
       "0                               7               268  \n",
       "1                               2               353  \n",
       "2                               2               232  \n",
       "3                               2                65  \n",
       "4                               6               364  "
      ]
     },
     "execution_count": 14,
     "metadata": {},
     "output_type": "execute_result"
    }
   ],
   "source": [
    "listings_df.head()"
   ]
  },
  {
   "cell_type": "code",
   "execution_count": 15,
   "metadata": {},
   "outputs": [
    {
     "data": {
      "text/plain": [
       "(4107, 16)"
      ]
     },
     "execution_count": 15,
     "metadata": {},
     "output_type": "execute_result"
    }
   ],
   "source": [
    "listings_df.shape"
   ]
  },
  {
   "cell_type": "code",
   "execution_count": 16,
   "metadata": {},
   "outputs": [
    {
     "data": {
      "text/plain": [
       "id                                  int64\n",
       "name                               object\n",
       "host_id                             int64\n",
       "host_name                          object\n",
       "neighbourhood_group                object\n",
       "neighbourhood                      object\n",
       "latitude                          float64\n",
       "longitude                         float64\n",
       "room_type                          object\n",
       "price                               int64\n",
       "minimum_nights                      int64\n",
       "number_of_reviews                   int64\n",
       "last_review                        object\n",
       "reviews_per_month                 float64\n",
       "calculated_host_listings_count      int64\n",
       "availability_365                    int64\n",
       "dtype: object"
      ]
     },
     "execution_count": 16,
     "metadata": {},
     "output_type": "execute_result"
    }
   ],
   "source": [
    "listings_df.dtypes"
   ]
  },
  {
   "cell_type": "code",
   "execution_count": 17,
   "metadata": {},
   "outputs": [
    {
     "data": {
      "text/html": [
       "<div>\n",
       "<style scoped>\n",
       "    .dataframe tbody tr th:only-of-type {\n",
       "        vertical-align: middle;\n",
       "    }\n",
       "\n",
       "    .dataframe tbody tr th {\n",
       "        vertical-align: top;\n",
       "    }\n",
       "\n",
       "    .dataframe thead th {\n",
       "        text-align: right;\n",
       "    }\n",
       "</style>\n",
       "<table border=\"1\" class=\"dataframe\">\n",
       "  <thead>\n",
       "    <tr style=\"text-align: right;\">\n",
       "      <th></th>\n",
       "      <th>id</th>\n",
       "      <th>host_id</th>\n",
       "      <th>latitude</th>\n",
       "      <th>longitude</th>\n",
       "      <th>price</th>\n",
       "      <th>minimum_nights</th>\n",
       "      <th>number_of_reviews</th>\n",
       "      <th>reviews_per_month</th>\n",
       "      <th>calculated_host_listings_count</th>\n",
       "      <th>availability_365</th>\n",
       "    </tr>\n",
       "  </thead>\n",
       "  <tbody>\n",
       "    <tr>\n",
       "      <th>count</th>\n",
       "      <td>4.107000e+03</td>\n",
       "      <td>4.107000e+03</td>\n",
       "      <td>4107.000000</td>\n",
       "      <td>4107.000000</td>\n",
       "      <td>4107.000000</td>\n",
       "      <td>4107.000000</td>\n",
       "      <td>4107.000000</td>\n",
       "      <td>3409.000000</td>\n",
       "      <td>4107.000000</td>\n",
       "      <td>4107.000000</td>\n",
       "    </tr>\n",
       "    <tr>\n",
       "      <th>mean</th>\n",
       "      <td>2.650151e+07</td>\n",
       "      <td>8.531630e+07</td>\n",
       "      <td>47.625096</td>\n",
       "      <td>-122.334783</td>\n",
       "      <td>131.661553</td>\n",
       "      <td>14.534697</td>\n",
       "      <td>63.138057</td>\n",
       "      <td>1.973247</td>\n",
       "      <td>20.409301</td>\n",
       "      <td>186.442172</td>\n",
       "    </tr>\n",
       "    <tr>\n",
       "      <th>std</th>\n",
       "      <td>1.466462e+07</td>\n",
       "      <td>1.047368e+08</td>\n",
       "      <td>0.046770</td>\n",
       "      <td>0.033152</td>\n",
       "      <td>119.514389</td>\n",
       "      <td>20.177378</td>\n",
       "      <td>90.731410</td>\n",
       "      <td>1.796876</td>\n",
       "      <td>46.175081</td>\n",
       "      <td>129.247437</td>\n",
       "    </tr>\n",
       "    <tr>\n",
       "      <th>min</th>\n",
       "      <td>9.419000e+03</td>\n",
       "      <td>2.536000e+03</td>\n",
       "      <td>47.491990</td>\n",
       "      <td>-122.418760</td>\n",
       "      <td>15.000000</td>\n",
       "      <td>1.000000</td>\n",
       "      <td>0.000000</td>\n",
       "      <td>0.010000</td>\n",
       "      <td>1.000000</td>\n",
       "      <td>0.000000</td>\n",
       "    </tr>\n",
       "    <tr>\n",
       "      <th>25%</th>\n",
       "      <td>1.423016e+07</td>\n",
       "      <td>8.534462e+06</td>\n",
       "      <td>47.606510</td>\n",
       "      <td>-122.356650</td>\n",
       "      <td>76.000000</td>\n",
       "      <td>2.000000</td>\n",
       "      <td>2.000000</td>\n",
       "      <td>0.550000</td>\n",
       "      <td>1.000000</td>\n",
       "      <td>76.000000</td>\n",
       "    </tr>\n",
       "    <tr>\n",
       "      <th>50%</th>\n",
       "      <td>2.667028e+07</td>\n",
       "      <td>3.945676e+07</td>\n",
       "      <td>47.620220</td>\n",
       "      <td>-122.335630</td>\n",
       "      <td>100.000000</td>\n",
       "      <td>3.000000</td>\n",
       "      <td>25.000000</td>\n",
       "      <td>1.470000</td>\n",
       "      <td>2.000000</td>\n",
       "      <td>173.000000</td>\n",
       "    </tr>\n",
       "    <tr>\n",
       "      <th>75%</th>\n",
       "      <td>4.037570e+07</td>\n",
       "      <td>1.216884e+08</td>\n",
       "      <td>47.660815</td>\n",
       "      <td>-122.311960</td>\n",
       "      <td>145.000000</td>\n",
       "      <td>30.000000</td>\n",
       "      <td>88.000000</td>\n",
       "      <td>2.920000</td>\n",
       "      <td>7.000000</td>\n",
       "      <td>327.000000</td>\n",
       "    </tr>\n",
       "    <tr>\n",
       "      <th>max</th>\n",
       "      <td>4.720212e+07</td>\n",
       "      <td>3.771297e+08</td>\n",
       "      <td>47.733750</td>\n",
       "      <td>-122.235590</td>\n",
       "      <td>3638.000000</td>\n",
       "      <td>365.000000</td>\n",
       "      <td>935.000000</td>\n",
       "      <td>12.550000</td>\n",
       "      <td>196.000000</td>\n",
       "      <td>365.000000</td>\n",
       "    </tr>\n",
       "  </tbody>\n",
       "</table>\n",
       "</div>"
      ],
      "text/plain": [
       "                 id       host_id     latitude    longitude        price  \\\n",
       "count  4.107000e+03  4.107000e+03  4107.000000  4107.000000  4107.000000   \n",
       "mean   2.650151e+07  8.531630e+07    47.625096  -122.334783   131.661553   \n",
       "std    1.466462e+07  1.047368e+08     0.046770     0.033152   119.514389   \n",
       "min    9.419000e+03  2.536000e+03    47.491990  -122.418760    15.000000   \n",
       "25%    1.423016e+07  8.534462e+06    47.606510  -122.356650    76.000000   \n",
       "50%    2.667028e+07  3.945676e+07    47.620220  -122.335630   100.000000   \n",
       "75%    4.037570e+07  1.216884e+08    47.660815  -122.311960   145.000000   \n",
       "max    4.720212e+07  3.771297e+08    47.733750  -122.235590  3638.000000   \n",
       "\n",
       "       minimum_nights  number_of_reviews  reviews_per_month  \\\n",
       "count     4107.000000        4107.000000        3409.000000   \n",
       "mean        14.534697          63.138057           1.973247   \n",
       "std         20.177378          90.731410           1.796876   \n",
       "min          1.000000           0.000000           0.010000   \n",
       "25%          2.000000           2.000000           0.550000   \n",
       "50%          3.000000          25.000000           1.470000   \n",
       "75%         30.000000          88.000000           2.920000   \n",
       "max        365.000000         935.000000          12.550000   \n",
       "\n",
       "       calculated_host_listings_count  availability_365  \n",
       "count                     4107.000000       4107.000000  \n",
       "mean                        20.409301        186.442172  \n",
       "std                         46.175081        129.247437  \n",
       "min                          1.000000          0.000000  \n",
       "25%                          1.000000         76.000000  \n",
       "50%                          2.000000        173.000000  \n",
       "75%                          7.000000        327.000000  \n",
       "max                        196.000000        365.000000  "
      ]
     },
     "execution_count": 17,
     "metadata": {},
     "output_type": "execute_result"
    }
   ],
   "source": [
    "listings_df.describe()"
   ]
  },
  {
   "cell_type": "code",
   "execution_count": 18,
   "metadata": {},
   "outputs": [
    {
     "data": {
      "text/plain": [
       "Downtown               17.920623\n",
       "Other neighborhoods    17.433650\n",
       "Capitol Hill            9.885561\n",
       "Central Area            7.937667\n",
       "Queen Anne              6.866326\n",
       "West Seattle            6.379352\n",
       "Ballard                 5.868030\n",
       "Rainier Valley          5.259313\n",
       "Cascade                 4.285366\n",
       "Beacon Hill             3.676650\n",
       "Delridge                3.189676\n",
       "University District     2.994887\n",
       "Northgate               2.727051\n",
       "Magnolia                1.972243\n",
       "Lake City               1.680058\n",
       "Seward Park             1.022644\n",
       "Interbay                0.900901\n",
       "Name: neighbourhood_group, dtype: float64"
      ]
     },
     "execution_count": 18,
     "metadata": {},
     "output_type": "execute_result"
    }
   ],
   "source": [
    "listings_df.neighbourhood_group.value_counts()/len(listings_df)*100"
   ]
  },
  {
   "cell_type": "code",
   "execution_count": 19,
   "metadata": {},
   "outputs": [
    {
     "data": {
      "text/plain": [
       "Entire home/apt    3344\n",
       "Private room        714\n",
       "Shared room          34\n",
       "Hotel room           15\n",
       "Name: room_type, dtype: int64"
      ]
     },
     "execution_count": 19,
     "metadata": {},
     "output_type": "execute_result"
    }
   ],
   "source": [
    "listings_df.room_type.value_counts()"
   ]
  },
  {
   "cell_type": "code",
   "execution_count": 20,
   "metadata": {},
   "outputs": [
    {
     "data": {
      "text/plain": [
       "698"
      ]
     },
     "execution_count": 20,
     "metadata": {},
     "output_type": "execute_result"
    }
   ],
   "source": [
    "listings_df.reviews_per_month.isna().sum()"
   ]
  },
  {
   "cell_type": "markdown",
   "metadata": {},
   "source": [
    "Changes needed to calendar_df:\n",
    "1. Remove reviews_per_month, latitude, longitude columns, minimum_nights, name and host_name\n",
    "2. Change column names for id, price"
   ]
  },
  {
   "cell_type": "markdown",
   "metadata": {},
   "source": [
    "### Exploring reviews_df"
   ]
  },
  {
   "cell_type": "code",
   "execution_count": 21,
   "metadata": {},
   "outputs": [
    {
     "data": {
      "text/html": [
       "<div>\n",
       "<style scoped>\n",
       "    .dataframe tbody tr th:only-of-type {\n",
       "        vertical-align: middle;\n",
       "    }\n",
       "\n",
       "    .dataframe tbody tr th {\n",
       "        vertical-align: top;\n",
       "    }\n",
       "\n",
       "    .dataframe thead th {\n",
       "        text-align: right;\n",
       "    }\n",
       "</style>\n",
       "<table border=\"1\" class=\"dataframe\">\n",
       "  <thead>\n",
       "    <tr style=\"text-align: right;\">\n",
       "      <th></th>\n",
       "      <th>listing_id</th>\n",
       "      <th>date</th>\n",
       "    </tr>\n",
       "  </thead>\n",
       "  <tbody>\n",
       "    <tr>\n",
       "      <th>0</th>\n",
       "      <td>9419</td>\n",
       "      <td>2010-07-30</td>\n",
       "    </tr>\n",
       "    <tr>\n",
       "      <th>1</th>\n",
       "      <td>9419</td>\n",
       "      <td>2010-08-23</td>\n",
       "    </tr>\n",
       "    <tr>\n",
       "      <th>2</th>\n",
       "      <td>9419</td>\n",
       "      <td>2010-08-30</td>\n",
       "    </tr>\n",
       "    <tr>\n",
       "      <th>3</th>\n",
       "      <td>9419</td>\n",
       "      <td>2010-09-06</td>\n",
       "    </tr>\n",
       "    <tr>\n",
       "      <th>4</th>\n",
       "      <td>9419</td>\n",
       "      <td>2010-10-31</td>\n",
       "    </tr>\n",
       "    <tr>\n",
       "      <th>...</th>\n",
       "      <td>...</td>\n",
       "      <td>...</td>\n",
       "    </tr>\n",
       "    <tr>\n",
       "      <th>259303</th>\n",
       "      <td>46748851</td>\n",
       "      <td>2020-12-14</td>\n",
       "    </tr>\n",
       "    <tr>\n",
       "      <th>259304</th>\n",
       "      <td>46798760</td>\n",
       "      <td>2020-12-16</td>\n",
       "    </tr>\n",
       "    <tr>\n",
       "      <th>259305</th>\n",
       "      <td>46876422</td>\n",
       "      <td>2020-12-16</td>\n",
       "    </tr>\n",
       "    <tr>\n",
       "      <th>259306</th>\n",
       "      <td>46905015</td>\n",
       "      <td>2020-12-15</td>\n",
       "    </tr>\n",
       "    <tr>\n",
       "      <th>259307</th>\n",
       "      <td>46905015</td>\n",
       "      <td>2020-12-21</td>\n",
       "    </tr>\n",
       "  </tbody>\n",
       "</table>\n",
       "<p>259308 rows × 2 columns</p>\n",
       "</div>"
      ],
      "text/plain": [
       "        listing_id        date\n",
       "0             9419  2010-07-30\n",
       "1             9419  2010-08-23\n",
       "2             9419  2010-08-30\n",
       "3             9419  2010-09-06\n",
       "4             9419  2010-10-31\n",
       "...            ...         ...\n",
       "259303    46748851  2020-12-14\n",
       "259304    46798760  2020-12-16\n",
       "259305    46876422  2020-12-16\n",
       "259306    46905015  2020-12-15\n",
       "259307    46905015  2020-12-21\n",
       "\n",
       "[259308 rows x 2 columns]"
      ]
     },
     "execution_count": 21,
     "metadata": {},
     "output_type": "execute_result"
    }
   ],
   "source": [
    "reviews_df"
   ]
  },
  {
   "cell_type": "markdown",
   "metadata": {},
   "source": [
    "No valuable data from reviews_df so going to ignore this df"
   ]
  },
  {
   "cell_type": "markdown",
   "metadata": {},
   "source": [
    "## Step 3: Data Preparation"
   ]
  },
  {
   "cell_type": "code",
   "execution_count": 22,
   "metadata": {},
   "outputs": [],
   "source": [
    "def calendar_clean(df):\n",
    "    \"\"\"\n",
    "    Cleans the calendar df in the following ways:\n",
    "    1. Drop columns minimum_nights and maximum_nights due to bad data\n",
    "    2. Removes price column and keep adjusted_price\n",
    "    3. Converts date column to datetime format and adjusted_price column to float\n",
    "    4. Changes t to True and f to False\n",
    "    \"\"\"\n",
    "    df_clean = df.copy()\n",
    "    df_clean.drop(columns = [\"price\", \"minimum_nights\", \"maximum_nights\"], inplace = True)\n",
    "    df_clean.date = df_clean.date.astype('datetime64[ns]')\n",
    "    df_clean.adjusted_price = df_clean.adjusted_price.replace('[\\$,]', '', regex=True).astype(float)\n",
    "    df_clean['available'] = df_clean['available'].replace({'t': True, 'f': False})\n",
    "    return df_clean"
   ]
  },
  {
   "cell_type": "code",
   "execution_count": 23,
   "metadata": {},
   "outputs": [],
   "source": [
    "calendar_clean = calendar_clean(calendar_df)"
   ]
  },
  {
   "cell_type": "code",
   "execution_count": 24,
   "metadata": {},
   "outputs": [
    {
     "data": {
      "text/plain": [
       "Timestamp('2020-12-23 00:00:00')"
      ]
     },
     "execution_count": 24,
     "metadata": {},
     "output_type": "execute_result"
    }
   ],
   "source": [
    "calendar_clean.date.min()"
   ]
  },
  {
   "cell_type": "code",
   "execution_count": 25,
   "metadata": {},
   "outputs": [
    {
     "data": {
      "text/plain": [
       "Timestamp('2021-12-29 00:00:00')"
      ]
     },
     "execution_count": 25,
     "metadata": {},
     "output_type": "execute_result"
    }
   ],
   "source": [
    "calendar_clean.date.max()"
   ]
  },
  {
   "cell_type": "code",
   "execution_count": 26,
   "metadata": {},
   "outputs": [],
   "source": [
    "def listings_clean(df):\n",
    "    \"\"\"\n",
    "    Cleans the calendar df in the following ways:\n",
    "    1. Remove reviews_per_month, latitude, longitude and minimum_nights columns\n",
    "    2. Change column names for id, price\n",
    "    \"\"\"\n",
    "    df_clean = df.copy()\n",
    "    df_clean.drop(columns = [\"reviews_per_month\", \"minimum_nights\", \"latitude\", \"longitude\", \"name\", \"host_name\"], \n",
    "                  inplace = True)\n",
    "    df_clean.rename(columns = {\"id\" : \"listing_id\", \"price\" : \"adjusted_price\"}, inplace = True)\n",
    "    return df_clean"
   ]
  },
  {
   "cell_type": "code",
   "execution_count": 27,
   "metadata": {},
   "outputs": [],
   "source": [
    "listings_clean = listings_clean(listings_df)"
   ]
  },
  {
   "cell_type": "markdown",
   "metadata": {},
   "source": [
    "## Step 4: Data Analysis"
   ]
  },
  {
   "cell_type": "markdown",
   "metadata": {},
   "source": [
    "1. What's the distribution of room_type in Seattle?"
   ]
  },
  {
   "cell_type": "code",
   "execution_count": 28,
   "metadata": {},
   "outputs": [
    {
     "data": {
      "text/plain": [
       "Entire home/apt    3344\n",
       "Private room        714\n",
       "Shared room          34\n",
       "Hotel room           15\n",
       "Name: room_type, dtype: int64"
      ]
     },
     "execution_count": 28,
     "metadata": {},
     "output_type": "execute_result"
    }
   ],
   "source": [
    "listings_clean.room_type.value_counts()"
   ]
  },
  {
   "cell_type": "code",
   "execution_count": 29,
   "metadata": {},
   "outputs": [
    {
     "data": {
      "text/plain": [
       "Entire home/apt    0.814220\n",
       "Private room       0.173850\n",
       "Shared room        0.008279\n",
       "Hotel room         0.003652\n",
       "Name: room_type, dtype: float64"
      ]
     },
     "execution_count": 29,
     "metadata": {},
     "output_type": "execute_result"
    }
   ],
   "source": [
    "listings_clean.room_type.value_counts(normalize = True)"
   ]
  },
  {
   "cell_type": "code",
   "execution_count": 30,
   "metadata": {
    "scrolled": true
   },
   "outputs": [
    {
     "data": {
      "image/png": "[encoded data removed]",
      "text/plain": [
       "<Figure size 432x288 with 1 Axes>"
      ]
     },
     "metadata": {
      "needs_background": "light"
     },
     "output_type": "display_data"
    }
   ],
   "source": [
    "sns.barplot(listings_clean.room_type.value_counts().index, listings_clean.room_type.value_counts().values, alpha=0.8)\n",
    "plt.title('Distribution of Room Types')\n",
    "plt.ylabel('Count', fontsize=12)\n",
    "plt.xlabel('Room Type', fontsize=12)\n",
    "plt.show()"
   ]
  },
  {
   "cell_type": "markdown",
   "metadata": {},
   "source": [
    "2. What is the most expensive and the cheapest neighbourhood in Seattle?"
   ]
  },
  {
   "cell_type": "code",
   "execution_count": 77,
   "metadata": {},
   "outputs": [],
   "source": [
    "neighborhood_price = listings_clean.groupby(\"neighbourhood_group\")[\"adjusted_price\"].mean().sort_values(ascending = False)"
   ]
  },
  {
   "cell_type": "code",
   "execution_count": 78,
   "metadata": {},
   "outputs": [
    {
     "data": {
      "text/plain": [
       "neighbourhood_group\n",
       "Magnolia               185.950617\n",
       "Queen Anne             175.918440\n",
       "Central Area           149.407975\n",
       "Lake City              149.188406\n",
       "Ballard                143.908714\n",
       "West Seattle           137.194656\n",
       "Cascade                136.045455\n",
       "Capitol Hill           130.802956\n",
       "Downtown               129.599185\n",
       "Other neighborhoods    123.775140\n",
       "Seward Park            121.047619\n",
       "Rainier Valley         120.657407\n",
       "University District    107.073171\n",
       "Beacon Hill            102.185430\n",
       "Delridge                95.603053\n",
       "Northgate               88.982143\n",
       "Interbay                84.891892\n",
       "Name: adjusted_price, dtype: float64"
      ]
     },
     "execution_count": 78,
     "metadata": {},
     "output_type": "execute_result"
    }
   ],
   "source": [
    "neighborhood_price"
   ]
  },
  {
   "cell_type": "code",
   "execution_count": 88,
   "metadata": {},
   "outputs": [
    {
     "data": {
      "image/png": "[encoded data removed]",
      "text/plain": [
       "<Figure size 1080x576 with 1 Axes>"
      ]
     },
     "metadata": {
      "needs_background": "light"
     },
     "output_type": "display_data"
    }
   ],
   "source": [
    "plt.figure(figsize = (15,8))\n",
    "sns.barplot(neighborhood_price.index, neighborhood_price.values, alpha=0.8, color = \"orange\")\n",
    "plt.xticks(rotation=90)\n",
    "plt.axhline(neighborhood_price.values.mean(), color = \"r\")\n",
    "plt.title('Price Comparison Across Neighborhoods')\n",
    "plt.ylabel('Average Price', fontsize=12)\n",
    "plt.xlabel('Month', fontsize=12)\n",
    "plt.show()"
   ]
  },
  {
   "cell_type": "markdown",
   "metadata": {},
   "source": [
    "3. What time of the year is most expensive in Seattle?"
   ]
  },
  {
   "cell_type": "code",
   "execution_count": 47,
   "metadata": {},
   "outputs": [],
   "source": [
    "monthly_comparison = calendar_clean.groupby(calendar_clean['date'].dt.strftime('%B'))['adjusted_price'].mean().sort_values(ascending = False)"
   ]
  },
  {
   "cell_type": "code",
   "execution_count": 49,
   "metadata": {},
   "outputs": [
    {
     "data": {
      "text/plain": [
       "date\n",
       "July         155.986106\n",
       "August       153.971991\n",
       "June         153.260523\n",
       "September    150.662414\n",
       "November     148.328667\n",
       "Name: adjusted_price, dtype: float64"
      ]
     },
     "execution_count": 49,
     "metadata": {},
     "output_type": "execute_result"
    }
   ],
   "source": [
    "monthly_comparison.head()"
   ]
  },
  {
   "cell_type": "code",
   "execution_count": 60,
   "metadata": {},
   "outputs": [
    {
     "data": {
      "image/png": "[encoded data removed]",
      "text/plain": [
       "<Figure size 1080x576 with 1 Axes>"
      ]
     },
     "metadata": {
      "needs_background": "light"
     },
     "output_type": "display_data"
    }
   ],
   "source": [
    "plt.figure(figsize = (15,8))\n",
    "sns.barplot(monthly_comparison.index, monthly_comparison.values, alpha=0.8, color = \"orange\")\n",
    "plt.axhline(monthly_comparison.values.mean(), color = \"r\")\n",
    "plt.title('Price Comparison Across Months')\n",
    "plt.ylabel('Average Price', fontsize=12)\n",
    "plt.xlabel('Month', fontsize=12)\n",
    "plt.show()"
   ]
  },
  {
   "cell_type": "markdown",
   "metadata": {},
   "source": [
    "4. Is there any correlation between the number of listings and the average price of the listings in a particular area?"
   ]
  },
  {
   "cell_type": "code",
   "execution_count": 89,
   "metadata": {},
   "outputs": [],
   "source": [
    "a = listings_clean.groupby(\"neighbourhood_group\").adjusted_price.agg([\"count\", \"mean\"]).corr()"
   ]
  },
  {
   "cell_type": "code",
   "execution_count": 91,
   "metadata": {},
   "outputs": [
    {
     "data": {
      "text/html": [
       "<div>\n",
       "<style scoped>\n",
       "    .dataframe tbody tr th:only-of-type {\n",
       "        vertical-align: middle;\n",
       "    }\n",
       "\n",
       "    .dataframe tbody tr th {\n",
       "        vertical-align: top;\n",
       "    }\n",
       "\n",
       "    .dataframe thead th {\n",
       "        text-align: right;\n",
       "    }\n",
       "</style>\n",
       "<table border=\"1\" class=\"dataframe\">\n",
       "  <thead>\n",
       "    <tr style=\"text-align: right;\">\n",
       "      <th></th>\n",
       "      <th>Number_of_Listings</th>\n",
       "      <th>Average_Listing_Price</th>\n",
       "    </tr>\n",
       "  </thead>\n",
       "  <tbody>\n",
       "    <tr>\n",
       "      <th>Number_of_Listings</th>\n",
       "      <td>1.000000</td>\n",
       "      <td>0.144017</td>\n",
       "    </tr>\n",
       "    <tr>\n",
       "      <th>Average_Listing_Price</th>\n",
       "      <td>0.144017</td>\n",
       "      <td>1.000000</td>\n",
       "    </tr>\n",
       "  </tbody>\n",
       "</table>\n",
       "</div>"
      ],
      "text/plain": [
       "                       Number_of_Listings  Average_Listing_Price\n",
       "Number_of_Listings               1.000000               0.144017\n",
       "Average_Listing_Price            0.144017               1.000000"
      ]
     },
     "execution_count": 91,
     "metadata": {},
     "output_type": "execute_result"
    }
   ],
   "source": [
    "a.rename(columns = {\"count\": \"Number_of_Listings\", \"mean\": \"Average_Listing_Price\"}, index = {\"count\": \"Number_of_Listings\", \"mean\": \"Average_Listing_Price\"})"
   ]
  },
  {
   "cell_type": "markdown",
   "metadata": {},
   "source": [
    "5. Is there any relation between the number of reviews and the availability of the listings?"
   ]
  },
  {
   "cell_type": "code",
   "execution_count": 238,
   "metadata": {},
   "outputs": [
    {
     "data": {
      "text/html": [
       "<div>\n",
       "<style scoped>\n",
       "    .dataframe tbody tr th:only-of-type {\n",
       "        vertical-align: middle;\n",
       "    }\n",
       "\n",
       "    .dataframe tbody tr th {\n",
       "        vertical-align: top;\n",
       "    }\n",
       "\n",
       "    .dataframe thead th {\n",
       "        text-align: right;\n",
       "    }\n",
       "</style>\n",
       "<table border=\"1\" class=\"dataframe\">\n",
       "  <thead>\n",
       "    <tr style=\"text-align: right;\">\n",
       "      <th></th>\n",
       "      <th>number_of_reviews</th>\n",
       "      <th>availability_365</th>\n",
       "    </tr>\n",
       "  </thead>\n",
       "  <tbody>\n",
       "    <tr>\n",
       "      <th>number_of_reviews</th>\n",
       "      <td>1.000000</td>\n",
       "      <td>-0.031416</td>\n",
       "    </tr>\n",
       "    <tr>\n",
       "      <th>availability_365</th>\n",
       "      <td>-0.031416</td>\n",
       "      <td>1.000000</td>\n",
       "    </tr>\n",
       "  </tbody>\n",
       "</table>\n",
       "</div>"
      ],
      "text/plain": [
       "                   number_of_reviews  availability_365\n",
       "number_of_reviews           1.000000         -0.031416\n",
       "availability_365           -0.031416          1.000000"
      ]
     },
     "execution_count": 238,
     "metadata": {},
     "output_type": "execute_result"
    }
   ],
   "source": [
    "listings_clean.loc[:, [\"number_of_reviews\", \"availability_365\"]].corr()"
   ]
  },
  {
   "cell_type": "code",
   "execution_count": 61,
   "metadata": {},
   "outputs": [
    {
     "data": {
      "text/plain": [
       "4107"
      ]
     },
     "execution_count": 61,
     "metadata": {},
     "output_type": "execute_result"
    }
   ],
   "source": [
    "len(listings_df)"
   ]
  },
  {
   "cell_type": "markdown",
   "metadata": {},
   "source": [
    "## Step 5: Evaluation"
   ]
  },
  {
   "cell_type": "markdown",
   "metadata": {},
   "source": [
    "1. Entire home/apt is the most popular type of room listing (3344/81.4%)"
   ]
  },
  {
   "cell_type": "markdown",
   "metadata": {},
   "source": [
    "2. Magnolia is the most expensive neighbourhood with the average price per night per listing around 186. \n",
    "Interbay is the least expensive neighbourhood with the average price per night per listing around 85."
   ]
  },
  {
   "cell_type": "markdown",
   "metadata": {},
   "source": [
    "3. There's a slight positive correlation with the number of listings and the average price of the listings in a particular area (0.14)"
   ]
  },
  {
   "cell_type": "markdown",
   "metadata": {},
   "source": [
    "4. There's a very weak negative correlation between the number of reviews and the availability of a listing throughout the year. I realized it might be wrong to ask this question because there's still 8 months remaining in 2021. We would want to ask this question at the end of the year when we have data on every listing for every day of the year"
   ]
  }
 ],
 "metadata": {
  "kernelspec": {
   "display_name": "Python 3",
   "language": "python",
   "name": "python3"
  },
  "language_info": {
   "codemirror_mode": {
    "name": "ipython",
    "version": 3
   },
   "file_extension": ".py",
   "mimetype": "text/x-python",
   "name": "python",
   "nbconvert_exporter": "python",
   "pygments_lexer": "ipython3",
   "version": "3.7.6"
  }
 },
 "nbformat": 4,
 "nbformat_minor": 4
}
